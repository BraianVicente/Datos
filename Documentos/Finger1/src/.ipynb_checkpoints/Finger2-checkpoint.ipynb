{
 "cells": [
  {
   "cell_type": "code",
   "execution_count": 1,
   "metadata": {
    "collapsed": true
   },
   "outputs": [],
   "source": [
    "from sklearn.neighbors import KNeighborsClassifier\n",
    "import matplotlib.pyplot as plt\n",
    "import numpy as np\n",
    "import csv"
   ]
  },
  {
   "cell_type": "markdown",
   "metadata": {},
   "source": [
    "### Se carga el archivo del set de entrenamiento"
   ]
  },
  {
   "cell_type": "code",
   "execution_count": 2,
   "metadata": {
    "collapsed": false
   },
   "outputs": [],
   "source": [
    "with open('../input/train.csv', 'r') as trainFile :\n",
    "    trainReader = csv.reader(trainFile, delimiter=',', quotechar='\"')\n",
    "    trainFile.next()\n",
    "    trainData = []\n",
    "    for row in trainReader :\n",
    "        trainTarget = int(row[0])\n",
    "        rowData = np.zeros(28*28)\n",
    "        for i in xrange(28*28) :\n",
    "            rowData[i] = row[i+1]\n",
    "                \n",
    "        trainData.append((trainTarget,rowData))\n",
    "                "
   ]
  },
  {
   "cell_type": "code",
   "execution_count": 3,
   "metadata": {
    "collapsed": true
   },
   "outputs": [],
   "source": [
    "trainDataRDD = sc.parallelize(trainData,64)"
   ]
  },
  {
   "cell_type": "markdown",
   "metadata": {
    "collapsed": false
   },
   "source": [
    "## A continuacion se filtran los datos para que sean procesados por clase"
   ]
  },
  {
   "cell_type": "code",
   "execution_count": 4,
   "metadata": {
    "collapsed": false
   },
   "outputs": [],
   "source": [
    "trainDataByClasses = []\n",
    "for i in xrange(10):\n",
    "    trainDataByClassesRDD = trainDataRDD.filter(lambda tupla : tupla[0] == i)\n",
    "    trainDataByClasses.append(trainDataByClassesRDD)\n"
   ]
  },
  {
   "cell_type": "markdown",
   "metadata": {},
   "source": [
    "### Se calcula el promedio de densidad correspondiente a cada clase"
   ]
  },
  {
   "cell_type": "code",
   "execution_count": 5,
   "metadata": {
    "collapsed": false
   },
   "outputs": [],
   "source": [
    "def weightOfImage(row):\n",
    "    summarize = 0\n",
    "    i,j = 0,0\n",
    "    for value in row :\n",
    "        if value != 0 :\n",
    "            j+=1\n",
    "        i+=1\n",
    "    return float(j)/float(i)\n"
   ]
  },
  {
   "cell_type": "markdown",
   "metadata": {},
   "source": [
    "#### Se crea una tupla del tipo (value,array,weight)"
   ]
  },
  {
   "cell_type": "code",
   "execution_count": 6,
   "metadata": {
    "collapsed": false
   },
   "outputs": [],
   "source": [
    "weightImages = []\n",
    "for i in xrange(10):\n",
    "    rddIndex = trainDataByClasses[i]\n",
    "    rddAlgo = rddIndex.map(lambda tupla: (tupla[0],tupla[1],weightOfImage(tupla[1])))\n",
    "    weightImages.append(rddAlgo)\n",
    "    \n"
   ]
  },
  {
   "cell_type": "markdown",
   "metadata": {},
   "source": [
    "### Se reduce un %70 la cantidad de datos de nuestro set de entrenamiento, en base a la densidad de la imagen."
   ]
  },
  {
   "cell_type": "code",
   "execution_count": 7,
   "metadata": {
    "collapsed": false
   },
   "outputs": [],
   "source": [
    "reducedDataSet = []\n",
    "for i in xrange(10) :\n",
    "    rowRDD = weightImages[i]\n",
    "    lenRow = rowRDD.count()\n",
    "    reducedDataSet.append(rowRDD.takeOrdered(int(lenRow*0.80),lambda threepla: -threepla[2]))"
   ]
  },
  {
   "cell_type": "markdown",
   "metadata": {
    "collapsed": false
   },
   "source": [
    "### Se crea la nueva lista que contiene el set de datos modificado para usar KNN"
   ]
  },
  {
   "cell_type": "code",
   "execution_count": 8,
   "metadata": {
    "collapsed": false
   },
   "outputs": [],
   "source": [
    "listReducedDataSet = []\n",
    "for i in xrange(10):\n",
    "    for j in xrange(len(reducedDataSet[i])):\n",
    "        listReducedDataSet.append((reducedDataSet[i][j][0],reducedDataSet[i][j][1]))"
   ]
  },
  {
   "cell_type": "markdown",
   "metadata": {},
   "source": [
    "### Se crean los numpy array para poder trabajar con KNN"
   ]
  },
  {
   "cell_type": "code",
   "execution_count": 9,
   "metadata": {
    "collapsed": false
   },
   "outputs": [],
   "source": [
    "trainData = []\n",
    "trainTarget = np.zeros(len(listReducedDataSet))\n",
    "j = 0\n",
    "for tupla in listReducedDataSet :\n",
    "    array = np.zeros(28*28)\n",
    "    trainTarget[j] = tupla[0]\n",
    "    for i in xrange(28*28):\n",
    "        array[i] = tupla[1][i]\n",
    "    trainData.append(array)\n",
    "    j+=1\n",
    "    "
   ]
  },
  {
   "cell_type": "code",
   "execution_count": 10,
   "metadata": {
    "collapsed": false
   },
   "outputs": [
    {
     "data": {
      "text/plain": [
       "KNeighborsClassifier(algorithm='auto', leaf_size=30, metric='minkowski',\n",
       "           metric_params=None, n_jobs=80, n_neighbors=3, p=1,\n",
       "           weights='uniform')"
      ]
     },
     "execution_count": 10,
     "metadata": {},
     "output_type": "execute_result"
    }
   ],
   "source": [
    "knnDigitRecorgnize = KNeighborsClassifier(n_neighbors=3,p=4,n_jobs=2)\n",
    "knnDigitRecorgnize.fit(trainData,trainTarget)"
   ]
  },
  {
   "cell_type": "code",
   "execution_count": 11,
   "metadata": {
    "collapsed": false
   },
   "outputs": [],
   "source": [
    "with open('../input/test.csv', 'r') as testFile :\n",
    "    testReader = csv.reader(testFile, delimiter=',', quotechar='\"')\n",
    "    testFile.next()\n",
    "    testData = []\n",
    "    for row in testReader :\n",
    "        rowData = np.zeros(28*28)\n",
    "        for i in xrange(28*28) :\n",
    "            rowData[i] = row[i]\n",
    "                \n",
    "        testData.append(rowData)"
   ]
  },
  {
   "cell_type": "code",
   "execution_count": null,
   "metadata": {
    "collapsed": false
   },
   "outputs": [],
   "source": [
    "predictionFile = open('../input/knnReducedDistance3MintkP3.csv','w')"
   ]
  },
  {
   "cell_type": "code",
   "execution_count": null,
   "metadata": {
    "collapsed": false
   },
   "outputs": [],
   "source": []
  },
  {
   "cell_type": "code",
   "execution_count": null,
   "metadata": {
    "collapsed": false
   },
   "outputs": [],
   "source": [
    "for row in testData :\n",
    "    predictionFile.write(str(int(knnDigitRecorgnize.predict([row])[0])) + '\\n')"
   ]
  },
  {
   "cell_type": "code",
   "execution_count": null,
   "metadata": {
    "collapsed": false
   },
   "outputs": [],
   "source": []
  },
  {
   "cell_type": "code",
   "execution_count": null,
   "metadata": {
    "collapsed": false
   },
   "outputs": [],
   "source": [
    "predictionFile.close()"
   ]
  },
  {
   "cell_type": "code",
   "execution_count": null,
   "metadata": {
    "collapsed": false
   },
   "outputs": [],
   "source": []
  },
  {
   "cell_type": "code",
   "execution_count": null,
   "metadata": {
    "collapsed": false
   },
   "outputs": [],
   "source": []
  },
  {
   "cell_type": "code",
   "execution_count": null,
   "metadata": {
    "collapsed": false
   },
   "outputs": [],
   "source": []
  },
  {
   "cell_type": "code",
   "execution_count": null,
   "metadata": {
    "collapsed": false
   },
   "outputs": [],
   "source": []
  },
  {
   "cell_type": "code",
   "execution_count": null,
   "metadata": {
    "collapsed": false
   },
   "outputs": [],
   "source": []
  },
  {
   "cell_type": "code",
   "execution_count": null,
   "metadata": {
    "collapsed": true
   },
   "outputs": [],
   "source": []
  },
  {
   "cell_type": "code",
   "execution_count": null,
   "metadata": {
    "collapsed": true
   },
   "outputs": [],
   "source": []
  },
  {
   "cell_type": "code",
   "execution_count": null,
   "metadata": {
    "collapsed": true
   },
   "outputs": [],
   "source": [
    "\n"
   ]
  },
  {
   "cell_type": "code",
   "execution_count": null,
   "metadata": {
    "collapsed": false
   },
   "outputs": [],
   "source": []
  },
  {
   "cell_type": "code",
   "execution_count": null,
   "metadata": {
    "collapsed": true
   },
   "outputs": [],
   "source": []
  }
 ],
 "metadata": {
  "celltoolbar": "Raw Cell Format",
  "kernelspec": {
   "display_name": "pySpark",
   "language": "python",
   "name": "pyspark"
  },
  "language_info": {
   "codemirror_mode": {
    "name": "ipython",
    "version": 2
   },
   "file_extension": ".py",
   "mimetype": "text/x-python",
   "name": "python",
   "nbconvert_exporter": "python",
   "pygments_lexer": "ipython2",
   "version": "2.7.6"
  }
 },
 "nbformat": 4,
 "nbformat_minor": 0
}
