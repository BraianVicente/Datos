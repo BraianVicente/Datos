{
 "cells": [
  {
   "cell_type": "markdown",
   "metadata": {},
   "source": [
    "# Finger Excersice 1"
   ]
  },
  {
   "cell_type": "code",
   "execution_count": 1,
   "metadata": {
    "collapsed": false
   },
   "outputs": [],
   "source": [
    "%matplotlib inline\n",
    "\n",
    "import matplotlib.pyplot as plt\n",
    "import numpy as np\n",
    "import csv\n",
    "\n",
    "def summarizeList(list0,list1) :\n",
    "    for i in range(len(list0)) :\n",
    "        list0[i] = list0[i] + list1[i]\n",
    "    return list0\n",
    "\n",
    "def promediatePixelRow(row):\n",
    "    index = 0\n",
    "    sumarize = 0\n",
    "    for i in row :\n",
    "        sumarize = sumarize + i\n",
    "        index = index + 1\n",
    "    return float(sumarize) / float(index)\n",
    "\n",
    "def imageOf(list) : \n",
    "    \n",
    "    pixel = np.zeros((28,28))\n",
    "    \n",
    "    for i in range(28*28) :\n",
    "        pixel[(i/28),(i%28)] = 1 - (float(list[i]) / float(255))\n",
    "        \n",
    "  \n",
    "    \n",
    "    plt.matshow(pixel,cmap=plt.cm.gray)\n",
    "    \n",
    "    plt.show()"
   ]
  },
  {
   "cell_type": "code",
   "execution_count": 2,
   "metadata": {
    "collapsed": false
   },
   "outputs": [],
   "source": [
    "with open('../input/train.csv', 'r') as trainFile :\n",
    "    trainReader = csv.reader(trainFile, delimiter=',', quotechar='\"')\n",
    "    trainFile.next()\n",
    "    file = []\n",
    "    otherFile = []\n",
    "    for row in trainReader :\n",
    "        list = []\n",
    "        otherList = [row[0]]\n",
    "        for i in range(28*28) :\n",
    "            list.append(int(row[i + 1]))\n",
    "            otherList.append(int(row[i + 1]))\n",
    "            \n",
    "        file.append(list)\n",
    "        otherFile.append(otherList)\n",
    "        "
   ]
  },
  {
   "cell_type": "code",
   "execution_count": 3,
   "metadata": {
    "collapsed": false,
    "scrolled": true
   },
   "outputs": [],
   "source": [
    "    rddTrainFile = sc.parallelize(file,64)\n",
    "    rddPromediate = rddTrainFile.map(lambda row : (promediatePixelRow(row),row) )\n",
    "    \n",
    "    mayorPromediate = rddPromediate.takeOrdered(1,lambda x: -x[0])\n",
    "    menorPromediate = rddPromediate.takeOrdered(1,lambda x: x[0])\n",
    "    \n",
    "    pixelMayor = np.zeros((28,28))\n",
    "    pixelMenor = np.zeros((28,28))\n",
    "    \n",
    "    for i in range(28*28) :\n",
    "        pixelMayor[(i/28),(i%28)] = 1 - (float(mayorPromediate[0][1][i]) / float(255))\n",
    "        pixelMenor[(i/28),(i%28)] = 1 - (float(menorPromediate[0][1][i]) / float(255))"
   ]
  },
  {
   "cell_type": "markdown",
   "metadata": {},
   "source": [
    "### Imagen con mayor promedio de pixeles"
   ]
  },
  {
   "cell_type": "code",
   "execution_count": 4,
   "metadata": {
    "collapsed": false
   },
   "outputs": [
    {
     "data": {
      "image/png": "[encoded data removed]",
      "text/plain": [
       "<matplotlib.figure.Figure at 0x7f52100ab650>"
      ]
     },
     "metadata": {},
     "output_type": "display_data"
    }
   ],
   "source": [
    "    plt.matshow(pixelMayor,cmap=plt.cm.gray)\n",
    "    plt.show()"
   ]
  },
  {
   "cell_type": "markdown",
   "metadata": {},
   "source": [
    "## Imagen con menor promedio de pixeles"
   ]
  },
  {
   "cell_type": "code",
   "execution_count": 5,
   "metadata": {
    "collapsed": false
   },
   "outputs": [
    {
     "data": {
      "image/png": "[encoded data removed]",
      "text/plain": [
       "<matplotlib.figure.Figure at 0x7f51f74b0510>"
      ]
     },
     "metadata": {},
     "output_type": "display_data"
    }
   ],
   "source": [
    "    plt.matshow(pixelMenor,cmap=plt.cm.gray)\n",
    "    plt.show()"
   ]
  },
  {
   "cell_type": "code",
   "execution_count": 6,
   "metadata": {
    "collapsed": false
   },
   "outputs": [],
   "source": [
    "    rddTestFormat = sc.parallelize(otherFile,64)\n",
    "    rddTestFormat.map(lambda row : (row[0] , 1 )).reduceByKey(lambda x,y: x+y)\n",
    "    \n",
    "    rddClassesCounter = rddTestFormat.map(lambda row : (row[0] , 1 )).reduceByKey(lambda x,y: x+y)\n",
    "    listClassesOrdered = rddClassesCounter.takeOrdered(10)\n",
    "    \n",
    "    "
   ]
  },
  {
   "cell_type": "markdown",
   "metadata": {},
   "source": [
    "### Tupla con las clases y la cantidad de cada una\n",
    "Como se ve cada clase en el set de datos de entrenamiento se encuentra bien balanceado ya que la diferencia es despreciable."
   ]
  },
  {
   "cell_type": "code",
   "execution_count": 7,
   "metadata": {
    "collapsed": false
   },
   "outputs": [
    {
     "name": "stdout",
     "output_type": "stream",
     "text": [
      "Total set entrenamieto:  42000\n",
      "Tupla (Clase,Cantidad) : [('0', 4132), ('1', 4684), ('2', 4177), ('3', 4351), ('4', 4072), ('5', 3795), ('6', 4137), ('7', 4401), ('8', 4063), ('9', 4188)]\n"
     ]
    }
   ],
   "source": [
    "    suma = 0\n",
    "    for element in listClassesOrdered :\n",
    "        suma = suma + element[1]\n",
    "    print \"Total set entrenamieto: \",suma\n",
    "    \n",
    "    print \"Tupla (Clase,Cantidad) :\",listClassesOrdered\n",
    "    "
   ]
  },
  {
   "cell_type": "code",
   "execution_count": 8,
   "metadata": {
    "collapsed": false
   },
   "outputs": [],
   "source": [
    "    rddElemetsList = rddTestFormat.map(lambda row: (row.pop(0),row))\n",
    "    \n",
    "    rddSummarize = rddElemetsList.reduceByKey(lambda x,y : summarizeList(x,y) )\n",
    "    "
   ]
  },
  {
   "cell_type": "code",
   "execution_count": 9,
   "metadata": {
    "collapsed": false
   },
   "outputs": [],
   "source": [
    "    listSummarized = rddSummarize.takeOrdered(10)"
   ]
  },
  {
   "cell_type": "code",
   "execution_count": 10,
   "metadata": {
    "collapsed": false
   },
   "outputs": [],
   "source": [
    "    listPromediate = []\n",
    "    \n",
    "    for i in range(len(listClassesOrdered)) :\n",
    "        list = [] \n",
    "        for j in range(len(listSummarized[i][1])) :\n",
    "            list.append(float(listSummarized[i][1][j]) / float(listClassesOrdered[i][1]) )\n",
    "        listPromediate.append(list)\n",
    "        "
   ]
  },
  {
   "cell_type": "markdown",
   "metadata": {},
   "source": [
    "# A continuacion estan los promedios de las imagenes del set de datos"
   ]
  },
  {
   "cell_type": "code",
   "execution_count": 11,
   "metadata": {
    "collapsed": false
   },
   "outputs": [
    {
     "data": {
      "image/png": "[encoded data removed]",
      "text/plain": [
       "<matplotlib.figure.Figure at 0x7f51f737a710>"
      ]
     },
     "metadata": {},
     "output_type": "display_data"
    }
   ],
   "source": [
    "    imageOf(listPromediate[0])"
   ]
  },
  {
   "cell_type": "code",
   "execution_count": 12,
   "metadata": {
    "collapsed": false
   },
   "outputs": [
    {
     "data": {
      "image/png": "[encoded data removed]",
      "text/plain": [
       "<matplotlib.figure.Figure at 0x7f51f7478990>"
      ]
     },
     "metadata": {},
     "output_type": "display_data"
    }
   ],
   "source": [
    "    imageOf(listPromediate[1])"
   ]
  },
  {
   "cell_type": "code",
   "execution_count": 13,
   "metadata": {
    "collapsed": false
   },
   "outputs": [
    {
     "data": {
      "image/png": "[encoded data removed]",
      "text/plain": [
       "<matplotlib.figure.Figure at 0x7f52100b47d0>"
      ]
     },
     "metadata": {},
     "output_type": "display_data"
    }
   ],
   "source": [
    "    imageOf(listPromediate[2])"
   ]
  },
  {
   "cell_type": "code",
   "execution_count": 14,
   "metadata": {
    "collapsed": false,
    "scrolled": true
   },
   "outputs": [
    {
     "data": {
      "image/png": "[encoded data removed]",
      "text/plain": [
       "<matplotlib.figure.Figure at 0x7f52100abd50>"
      ]
     },
     "metadata": {},
     "output_type": "display_data"
    }
   ],
   "source": [
    "    imageOf(listPromediate[3])"
   ]
  },
  {
   "cell_type": "code",
   "execution_count": 15,
   "metadata": {
    "collapsed": false
   },
   "outputs": [
    {
     "data": {
      "image/png": "[encoded data removed]",
      "text/plain": [
       "<matplotlib.figure.Figure at 0x7f51f73b2410>"
      ]
     },
     "metadata": {},
     "output_type": "display_data"
    }
   ],
   "source": [
    "    imageOf(listPromediate[4])"
   ]
  },
  {
   "cell_type": "code",
   "execution_count": 16,
   "metadata": {
    "collapsed": false
   },
   "outputs": [
    {
     "data": {
      "image/png": "[encoded data removed]",
      "text/plain": [
       "<matplotlib.figure.Figure at 0x7f51f73203d0>"
      ]
     },
     "metadata": {},
     "output_type": "display_data"
    }
   ],
   "source": [
    "    imageOf(listPromediate[5])"
   ]
  },
  {
   "cell_type": "code",
   "execution_count": 17,
   "metadata": {
    "collapsed": false
   },
   "outputs": [
    {
     "data": {
      "image/png": "[encoded data removed]",
      "text/plain": [
       "<matplotlib.figure.Figure at 0x7f51f737aad0>"
      ]
     },
     "metadata": {},
     "output_type": "display_data"
    }
   ],
   "source": [
    "    imageOf(listPromediate[6])"
   ]
  },
  {
   "cell_type": "code",
   "execution_count": 18,
   "metadata": {
    "collapsed": false
   },
   "outputs": [
    {
     "data": {
      "image/png": "[encoded data removed]",
      "text/plain": [
       "<matplotlib.figure.Figure at 0x7f51f7b2b610>"
      ]
     },
     "metadata": {},
     "output_type": "display_data"
    }
   ],
   "source": [
    "    imageOf(listPromediate[7])"
   ]
  },
  {
   "cell_type": "code",
   "execution_count": 19,
   "metadata": {
    "collapsed": false
   },
   "outputs": [
    {
     "data": {
      "image/png": "[encoded data removed]",
      "text/plain": [
       "<matplotlib.figure.Figure at 0x7f52100b4a50>"
      ]
     },
     "metadata": {},
     "output_type": "display_data"
    }
   ],
   "source": [
    "    imageOf(listPromediate[8])"
   ]
  },
  {
   "cell_type": "code",
   "execution_count": 20,
   "metadata": {
    "collapsed": false
   },
   "outputs": [
    {
     "data": {
      "image/png": "[encoded data removed]",
      "text/plain": [
       "<matplotlib.figure.Figure at 0x7f51f730f810>"
      ]
     },
     "metadata": {},
     "output_type": "display_data"
    }
   ],
   "source": [
    "    imageOf(listPromediate[9])"
   ]
  },
  {
   "cell_type": "code",
   "execution_count": null,
   "metadata": {
    "collapsed": true
   },
   "outputs": [],
   "source": []
  }
 ],
 "metadata": {
  "kernelspec": {
   "display_name": "pySpark",
   "language": "python",
   "name": "pyspark"
  },
  "language_info": {
   "codemirror_mode": {
    "name": "ipython",
    "version": 2
   },
   "file_extension": ".py",
   "mimetype": "text/x-python",
   "name": "python",
   "nbconvert_exporter": "python",
   "pygments_lexer": "ipython2",
   "version": "2.7.6"
  }
 },
 "nbformat": 4,
 "nbformat_minor": 0
}
